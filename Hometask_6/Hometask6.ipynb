{
 "cells": [
  {
   "cell_type": "markdown",
   "metadata": {},
   "source": [
    "### Задание 1"
   ]
  },
  {
   "cell_type": "code",
   "execution_count": 9,
   "metadata": {},
   "outputs": [
    {
     "name": "stdout",
     "output_type": "stream",
     "text": [
      "The Moscow Times: 2002-10-02 00:00:00\n",
      "The Guardian: 2013-10-11 00:00:00\n",
      "Daily News: 1977-08-18 00:00:00\n"
     ]
    }
   ],
   "source": [
    "from datetime import datetime\n",
    "\n",
    "m_t_date = 'Wednesday, October 2, 2002'\n",
    "g_date = 'Friday, 11.10.13'\n",
    "d_n_date = 'Thursday, 18 August 1977'\n",
    "\n",
    "m_t_date_dt = datetime.strptime(m_t_date, '%A, %B %d, %Y')\n",
    "g_date_dt = datetime.strptime(g_date, '%A, %d.%m.%y')\n",
    "d_n_date_dt = datetime.strptime(d_n_date, '%A, %d %B %Y')\n",
    "\n",
    "\n",
    "print(f'The Moscow Times: {m_t_date_dt}')\n",
    "print(f'The Guardian: {g_date_dt}')\n",
    "print(f'Daily News: {d_n_date_dt}')"
   ]
  },
  {
   "cell_type": "markdown",
   "metadata": {},
   "source": [
    "### Задание 2"
   ]
  },
  {
   "cell_type": "code",
   "execution_count": 43,
   "metadata": {
    "scrolled": true
   },
   "outputs": [
    {
     "name": "stdout",
     "output_type": "stream",
     "text": [
      "Дата 2018-04-02 корректна\n",
      "Дата 2018-02-29 некорректна\n",
      "Дата 2018-10-02 корректна\n"
     ]
    }
   ],
   "source": [
    "from datetime import datetime\n",
    "\n",
    "stream = ['2018-04-02', '2018-02-29', '2018-10-02']\n",
    "\n",
    "def dates_check(date_string):\n",
    "    try:\n",
    "        date_dt = datetime.strptime(date, '%Y-%m-%d')\n",
    "        return print(f'Дата {date_string} корректна')\n",
    "    except:\n",
    "        return print(f'Дата {date_string} некорректна')\n",
    "\n",
    "for date in stream:\n",
    "    dates_check(date)"
   ]
  },
  {
   "cell_type": "markdown",
   "metadata": {},
   "source": [
    "### Задание 3"
   ]
  },
  {
   "cell_type": "code",
   "execution_count": 50,
   "metadata": {},
   "outputs": [
    {
     "name": "stdout",
     "output_type": "stream",
     "text": [
      "Введите начало периода: 15-4-8\n",
      "Введите конец периода: 4548\n",
      "[]\n"
     ]
    }
   ],
   "source": [
    "from datetime import datetime\n",
    "from datetime import timedelta\n",
    "\n",
    "def date_range(start, end):\n",
    "    dates_list=[]\n",
    "    try:\n",
    "        if start > end:\n",
    "            print([])\n",
    "        else:\n",
    "            start_dt = datetime.strptime(start, '%Y-%m-%d')\n",
    "            end_dt = datetime.strptime(end, '%Y-%m-%d')\n",
    "            \n",
    "            dates_list.append(start)\n",
    "            \n",
    "            current_dt = start_dt\n",
    "            while current_dt<= end_dt:\n",
    "                current_dt += timedelta(days = 1)\n",
    "                current = datetime.strftime(current_dt, '%Y-%m-%d')\n",
    "                dates_list.append(current)\n",
    "            \n",
    "            print(dates_list)\n",
    "\n",
    "    except:\n",
    "        print([])\n",
    "\n",
    "start_date = input('Введите начало периода: ')\n",
    "end_date = input('Введите конец периода: ')\n",
    "\n",
    "date_range(start_date, end_date)"
   ]
  },
  {
   "cell_type": "markdown",
   "metadata": {},
   "source": [
    "### Задание 4\n",
    "1. IndexError: list index out of range - неудачная попытка обратиться в списке к элеиенту по номеру, который за пределами размерности списка. Например, в списке 5 позиций, при попытке вызвать элемент с индексом >[4] выпадет данная ошибка.\n",
    "\n",
    "\n",
    "2. Несмотря на то, что параметр default_list имеет значение по умолчанию, default_list - это список, изменяемый тип данных. При первом вызове функции параметр default_list не задан извне - используется значение по умолчанию. При повторном вызове значение переменной уже задано - первым вызовом функции, где из списка default_list удален последний элемент и элементов в списке осталось 2. Во время данного запуска функции удаляется последний элемент у обновленного списка и в списке остается 1 элемент. При попытке вывести элемент с индексом 3 - 2 = 1 Python выдает ошибку, поскольку в списке всего 1 элемент и элемента с индексом [1] в списке нет."
   ]
  },
  {
   "cell_type": "code",
   "execution_count": 70,
   "metadata": {},
   "outputs": [
    {
     "ename": "IndexError",
     "evalue": "list index out of range",
     "output_type": "error",
     "traceback": [
      "\u001b[1;31m---------------------------------------------------------------------------\u001b[0m",
      "\u001b[1;31mIndexError\u001b[0m                                Traceback (most recent call last)",
      "\u001b[1;32m<ipython-input-70-9582bf60aed7>\u001b[0m in \u001b[0;36m<module>\u001b[1;34m\u001b[0m\n\u001b[0;32m      8\u001b[0m \u001b[1;33m\u001b[0m\u001b[0m\n\u001b[0;32m      9\u001b[0m \u001b[0mdelete_and_return_last_user\u001b[0m\u001b[1;33m(\u001b[0m\u001b[1;36m1\u001b[0m\u001b[1;33m)\u001b[0m\u001b[1;33m\u001b[0m\u001b[1;33m\u001b[0m\u001b[0m\n\u001b[1;32m---> 10\u001b[1;33m \u001b[0mdelete_and_return_last_user\u001b[0m\u001b[1;33m(\u001b[0m\u001b[1;36m1\u001b[0m\u001b[1;33m)\u001b[0m\u001b[1;33m\u001b[0m\u001b[1;33m\u001b[0m\u001b[0m\n\u001b[0m",
      "\u001b[1;32m<ipython-input-70-9582bf60aed7>\u001b[0m in \u001b[0;36mdelete_and_return_last_user\u001b[1;34m(region, default_list)\u001b[0m\n\u001b[0;32m      5\u001b[0m     \u001b[0mdefault_list\u001b[0m\u001b[1;33m.\u001b[0m\u001b[0mremove\u001b[0m\u001b[1;33m(\u001b[0m\u001b[0melement_to_delete\u001b[0m\u001b[1;33m)\u001b[0m\u001b[1;33m\u001b[0m\u001b[1;33m\u001b[0m\u001b[0m\n\u001b[0;32m      6\u001b[0m \u001b[1;33m\u001b[0m\u001b[0m\n\u001b[1;32m----> 7\u001b[1;33m     \u001b[1;32mreturn\u001b[0m \u001b[0mdefault_list\u001b[0m\u001b[1;33m[\u001b[0m\u001b[0mDEFAULT_USER_COUNT\u001b[0m\u001b[1;33m-\u001b[0m\u001b[1;36m2\u001b[0m\u001b[1;33m]\u001b[0m\u001b[1;33m\u001b[0m\u001b[1;33m\u001b[0m\u001b[0m\n\u001b[0m\u001b[0;32m      8\u001b[0m \u001b[1;33m\u001b[0m\u001b[0m\n\u001b[0;32m      9\u001b[0m \u001b[0mdelete_and_return_last_user\u001b[0m\u001b[1;33m(\u001b[0m\u001b[1;36m1\u001b[0m\u001b[1;33m)\u001b[0m\u001b[1;33m\u001b[0m\u001b[1;33m\u001b[0m\u001b[0m\n",
      "\u001b[1;31mIndexError\u001b[0m: list index out of range"
     ]
    }
   ],
   "source": [
    "DEFAULT_USER_COUNT = 3\n",
    "\n",
    "def delete_and_return_last_user(region, default_list=['A100', 'A101', 'A102']):\n",
    "    element_to_delete = default_list[-1]\n",
    "    default_list.remove(element_to_delete)\n",
    "\n",
    "    return default_list[DEFAULT_USER_COUNT-2]\n",
    "\n",
    "delete_and_return_last_user(1)\n",
    "delete_and_return_last_user(1)"
   ]
  }
 ],
 "metadata": {
  "kernelspec": {
   "display_name": "Python 3",
   "language": "python",
   "name": "python3"
  },
  "language_info": {
   "codemirror_mode": {
    "name": "ipython",
    "version": 3
   },
   "file_extension": ".py",
   "mimetype": "text/x-python",
   "name": "python",
   "nbconvert_exporter": "python",
   "pygments_lexer": "ipython3",
   "version": "3.8.5"
  }
 },
 "nbformat": 4,
 "nbformat_minor": 4
}
