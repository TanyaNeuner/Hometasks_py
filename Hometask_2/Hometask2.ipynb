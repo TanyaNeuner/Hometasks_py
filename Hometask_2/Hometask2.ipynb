{
 "cells": [
  {
   "cell_type": "markdown",
   "metadata": {},
   "source": [
    "### Задание 1"
   ]
  },
  {
   "cell_type": "code",
   "execution_count": 16,
   "metadata": {},
   "outputs": [
    {
     "name": "stdout",
     "output_type": "stream",
     "text": [
      "t\n"
     ]
    }
   ],
   "source": [
    "word='testing'\n",
    "word_length=int(len(word))\n",
    "if word_length%2==0:\n",
    "    print(word[word_length//2-1:word_length//2+1])\n",
    "else:\n",
    "    print(word[word_length//2])"
   ]
  },
  {
   "cell_type": "markdown",
   "metadata": {},
   "source": [
    "### Задание 2"
   ]
  },
  {
   "cell_type": "code",
   "execution_count": 79,
   "metadata": {},
   "outputs": [
    {
     "name": "stdout",
     "output_type": "stream",
     "text": [
      "Введите число:1\n",
      "Введите число:4\n",
      "Введите число:6\n",
      "Введите число:0\n",
      "11.0\n"
     ]
    }
   ],
   "source": [
    "figure=float(input(\"Введите число:\"))\n",
    "sum_figure=0\n",
    "while figure!=0:\n",
    "    sum_figure+=figure\n",
    "    figure=float(input(\"Введите число:\"))\n",
    "print(sum_figure)"
   ]
  },
  {
   "cell_type": "markdown",
   "metadata": {},
   "source": [
    "### Задание 3"
   ]
  },
  {
   "cell_type": "code",
   "execution_count": 33,
   "metadata": {},
   "outputs": [
    {
     "name": "stdout",
     "output_type": "stream",
     "text": [
      "Идеальные пары:\n",
      "Alex и Emma\n",
      "Arthur и Kate\n",
      "John и Kira\n",
      "Peter и Liza\n",
      "Richard и Trisha\n"
     ]
    }
   ],
   "source": [
    "boys=['Peter','Alex','John','Arthur','Richard']\n",
    "girls=['Kate','Liza','Kira','Emma','Trisha',]\n",
    "count_boys=len(boys)\n",
    "count_girls=len(girls)\n",
    "\n",
    "if count_boys!=count_girls:\n",
    "    print('Внимание, кто-то может отстаться без пары!')\n",
    "else:\n",
    "    print('Идеальные пары:')\n",
    "    pairs=list(zip(sorted(boys),sorted(girls)))\n",
    "    for pair in pairs:\n",
    "        print(pair[0] + ' и '+ pair[1])"
   ]
  },
  {
   "cell_type": "markdown",
   "metadata": {},
   "source": [
    "### Задание 4"
   ]
  },
  {
   "cell_type": "code",
   "execution_count": 54,
   "metadata": {},
   "outputs": [
    {
     "name": "stdout",
     "output_type": "stream",
     "text": [
      "Thailand - 23.9 C\n",
      "Germany - 13.8 C\n",
      "Russia - 3.7 C\n",
      "Poland - 12.0 C\n"
     ]
    }
   ],
   "source": [
    "countries_temperature=[\n",
    "    ['Thailand',[75.2,77,78.8,73.4,68,75.2,77]],\n",
    "    ['Germany',[57.2,55.4,59,59,53.6]],\n",
    "    ['Russia',[35.6,37.4,39.2,41,42.8,39.2,35.6]],\n",
    "    ['Poland',[50,50,53.6,57.2,55.4,55.4]]\n",
    "]\n",
    "#i=0\n",
    "#countries_average_temperature=[]\n",
    "for country in countries_temperature:\n",
    "    sum_temperature=0\n",
    "    for temperature in country[1]:\n",
    "        sum_temperature+=temperature\n",
    "    average_temp=round(((sum_temperature/len(country[1])-32)*5/9),1)\n",
    "    #countries_average_temperature.append(average_temp)\n",
    "    #print(country[0] + ' - ' + str(countries_average_temperature[i]) + ' C')\n",
    "    #i+=1\n",
    "    print(country[0] + ' - ' + str(average_temp) + ' C')"
   ]
  },
  {
   "cell_type": "markdown",
   "metadata": {},
   "source": [
    "### Задание 5"
   ]
  },
  {
   "cell_type": "code",
   "execution_count": 52,
   "metadata": {},
   "outputs": [
    {
     "name": "stdout",
     "output_type": "stream",
     "text": [
      "Среднее количество просмотров на уникального пользователя: 23.25\n"
     ]
    }
   ],
   "source": [
    "stream = [\n",
    "    '2018-01-01,user1,3',\n",
    "    '2018-01-07,user1,4',\n",
    "    '2018-03-29,user1,1',\n",
    "    '2018-04-04,user1,13',\n",
    "    '2018-01-05,user2,7',\n",
    "    '2018-06-14,user3,4',\n",
    "    '2018-07-02,user3,10',\n",
    "    '2018-03-21,user4,19',\n",
    "    '2018-03-22,user4,4',\n",
    "    '2018-04-22,user4,8',\n",
    "    '2018-05-03,user4,9',\n",
    "    '2018-05-11,user4,11',\n",
    "]\n",
    "\n",
    "data_massive=[]\n",
    "users=[]\n",
    "for log in stream:\n",
    "    data_massive.append(log.split(','))\n",
    "\n",
    "sum_pages_visited=0\n",
    "for log in data_massive:\n",
    "    sum_pages_visited+=int(log[2])\n",
    "    if log[1] not in users:\n",
    "        users.append(log[1])\n",
    "visit_per_user=round(sum_pages_visited/len(users),2)\n",
    "print(f'Среднее количество просмотров на уникального пользователя: {visit_per_user}')"
   ]
  },
  {
   "cell_type": "markdown",
   "metadata": {},
   "source": [
    "### Задание 6"
   ]
  },
  {
   "cell_type": "code",
   "execution_count": 78,
   "metadata": {},
   "outputs": [
    {
     "name": "stdout",
     "output_type": "stream",
     "text": [
      "Введите числа:10 15 15 103 200 200 200 1 1 1 1 1 2 2 2\n",
      "1 2 15 200\n"
     ]
    }
   ],
   "source": [
    "string=input('Введите числа:')\n",
    "if len(string)==0:\n",
    "    print('Числа не введены')\n",
    "else:\n",
    "    figures=string.split(' ')\n",
    "    digits_massive=[]\n",
    "    digits_massive_sorted=[]\n",
    "    duplicates=[]\n",
    "\n",
    "    for digit in figures:\n",
    "        digits_massive_sorted.append(int(digit))\n",
    "    digits_massive_sorted=sorted(digits_massive_sorted)\n",
    "    for digit in digits_massive_sorted:\n",
    "        if str(digit) not in digits_massive:\n",
    "            digits_massive.append(str(digit))\n",
    "        else:\n",
    "            if str(digit) not in duplicates:\n",
    "                duplicates.append(str(digit))\n",
    "    result=' '.join(duplicates)\n",
    "\n",
    "    print(result)"
   ]
  }
 ],
 "metadata": {
  "kernelspec": {
   "display_name": "Python 3",
   "language": "python",
   "name": "python3"
  },
  "language_info": {
   "codemirror_mode": {
    "name": "ipython",
    "version": 3
   },
   "file_extension": ".py",
   "mimetype": "text/x-python",
   "name": "python",
   "nbconvert_exporter": "python",
   "pygments_lexer": "ipython3",
   "version": "3.8.5"
  }
 },
 "nbformat": 4,
 "nbformat_minor": 4
}
