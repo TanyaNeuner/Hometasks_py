{
 "cells": [
  {
   "cell_type": "markdown",
   "metadata": {},
   "source": [
    "### Задание 1"
   ]
  },
  {
   "cell_type": "code",
   "execution_count": 35,
   "metadata": {},
   "outputs": [
    {
     "name": "stdout",
     "output_type": "stream",
     "text": [
      "{98, 35, 213, 54, 119, 15}\n"
     ]
    }
   ],
   "source": [
    "ids = {'user1': [213, 213, 213, 15, 213], \n",
    "       'user2': [54, 54, 119, 119, 119], \n",
    "       'user3': [213, 98, 98, 35]}\n",
    "\n",
    "result_set = set()\n",
    "#result_set.clear()\n",
    "    \n",
    "for value in ids.values():\n",
    "    result_set = result_set.union(set(value))\n",
    "print(result_set)"
   ]
  },
  {
   "cell_type": "markdown",
   "metadata": {},
   "source": [
    "### Задание 2.1\n",
    "Если запросы **не повторяются**"
   ]
  },
  {
   "cell_type": "code",
   "execution_count": 69,
   "metadata": {
    "scrolled": true
   },
   "outputs": [
    {
     "name": "stdout",
     "output_type": "stream",
     "text": [
      "Поисковых запросов, содержащих 2 слов(а): 42.86%\n",
      "Поисковых запросов, содержащих 3 слов(а): 57.14%\n"
     ]
    }
   ],
   "source": [
    "queries = [\n",
    "    'смотреть сериалы онлайн',\n",
    "    'новости спорта',\n",
    "    'афиша кино',\n",
    "    'курс доллара',\n",
    "    'сериалы этим летом',\n",
    "    'курс по питону',\n",
    "    'сериалы про спорт',\n",
    "]\n",
    "#общее число запросов\n",
    "request_amount = len(queries)\n",
    "\n",
    "#словарь из пар \"Запрос - число слов\"\n",
    "queries_length = {query: len(query.split(' ')) for query in queries}\n",
    "\n",
    "#множество из количеств слов\n",
    "words_amount_set = set(queries_length.values())\n",
    "\n",
    "#для каждого количества слов считаем процент запросов\n",
    "for amount in words_amount_set:\n",
    "    per_cent = round(sum([1 for key, value in queries_length.items() if int(value) == int(amount)]) / request_amount * 100, 2)  \n",
    "    print(f'Поисковых запросов, содержащих {amount} слов(а): {per_cent}%')"
   ]
  },
  {
   "cell_type": "markdown",
   "metadata": {},
   "source": [
    "### Задание 2.2\n",
    "Если запросы **повторяются**"
   ]
  },
  {
   "cell_type": "code",
   "execution_count": 66,
   "metadata": {},
   "outputs": [
    {
     "name": "stdout",
     "output_type": "stream",
     "text": [
      "Поисковых запросов, содержащих 2 слов(а): 37.5%\n",
      "Поисковых запросов, содержащих 3 слов(а): 62.5%\n"
     ]
    }
   ],
   "source": [
    "queries = [\n",
    "    'смотреть сериалы онлайн',\n",
    "    'новости спорта',\n",
    "    'афиша кино',\n",
    "    'курс доллара',\n",
    "    'сериалы этим летом',\n",
    "    'курс по питону',\n",
    "    'сериалы про спорт',\n",
    "    'сериалы про спорт',\n",
    "]\n",
    "#общее число запросов\n",
    "request_amount = len(queries)\n",
    "\n",
    "#количество слов в каждом запросе\n",
    "queries_length = [len(query.split(' ')) for query in queries]\n",
    "\n",
    "#пары \"Запрос - количество слов\"\n",
    "pairs_query_words = list(zip(queries,queries_length))\n",
    "\n",
    "#множество из количеств слов\n",
    "words_amount_set = set(queries_length)\n",
    "\n",
    "#для каждого количества слов считаем процент запросов\n",
    "for amount in words_amount_set:\n",
    "    per_cent = round(sum([1 for (element, words) in pairs_query_words if int(words) == int(amount)]) / request_amount * 100, 2)  \n",
    "    print(f'Поисковых запросов, содержащих {amount} слов(а): {per_cent}%')"
   ]
  },
  {
   "cell_type": "markdown",
   "metadata": {},
   "source": [
    "### Задание 3"
   ]
  },
  {
   "cell_type": "code",
   "execution_count": 78,
   "metadata": {},
   "outputs": [
    {
     "name": "stdout",
     "output_type": "stream",
     "text": [
      "{'vk': {'revenue': 103, 'cost': 98, 'ROI': 5.1}, 'yandex': {'revenue': 179, 'cost': 153, 'ROI': 16.99}, 'facebook': {'revenue': 103, 'cost': 110, 'ROI': -6.36}, 'adwords': {'revenue': 35, 'cost': 34, 'ROI': 2.94}, 'twitter': {'revenue': 11, 'cost': 24, 'ROI': -54.17}}\n"
     ]
    }
   ],
   "source": [
    "results = {\n",
    "    'vk': {'revenue': 103, 'cost': 98},\n",
    "    'yandex': {'revenue': 179, 'cost': 153},\n",
    "    'facebook': {'revenue': 103, 'cost': 110},\n",
    "    'adwords': {'revenue': 35, 'cost': 34},\n",
    "    'twitter': {'revenue': 11, 'cost': 24},\n",
    "}\n",
    "for key,value in results.items():\n",
    "    value['ROI'] = round((value['revenue'] / value['cost'] - 1) * 100, 2)\n",
    "sorted(results)\n",
    "\n",
    "print(results)"
   ]
  },
  {
   "cell_type": "markdown",
   "metadata": {},
   "source": [
    "### Задание 4"
   ]
  },
  {
   "cell_type": "code",
   "execution_count": 96,
   "metadata": {},
   "outputs": [
    {
     "name": "stdout",
     "output_type": "stream",
     "text": [
      "Максимальный объем продаж на рекламном канале: vk\n"
     ]
    }
   ],
   "source": [
    "stats = {\n",
    "    'facebook': 55, \n",
    "    'yandex': 115, \n",
    "    'vk': 120, \n",
    "    'google': 99, \n",
    "    'email': 42, \n",
    "    'ok': 98\n",
    "}\n",
    "\n",
    "benchmark = 0\n",
    "for key, value in stats.items():\n",
    "    if value > benchmark:\n",
    "        benchmark = value\n",
    "        result = key\n",
    "print(f'Максимальный объем продаж на рекламном канале: {result}')"
   ]
  },
  {
   "cell_type": "markdown",
   "metadata": {},
   "source": [
    "### Задание 5"
   ]
  },
  {
   "cell_type": "code",
   "execution_count": 110,
   "metadata": {},
   "outputs": [
    {
     "name": "stdout",
     "output_type": "stream",
     "text": [
      "{'2018-01-01': {'yandex': {'cpc': 100}}}\n"
     ]
    }
   ],
   "source": [
    "my_list = ['2018-01-01', 'yandex', 'cpc', 100]\n",
    "\n",
    "dict_list = {my_list[-2]:my_list[-1]}\n",
    "ind = 0 - len(my_list)\n",
    "\n",
    "i = -3\n",
    "while i >= ind:\n",
    "    dict_list = {my_list[i]:dict_list}\n",
    "    i -= 1\n",
    "    \n",
    "print(dict_list)"
   ]
  },
  {
   "cell_type": "markdown",
   "metadata": {},
   "source": [
    "### Задание 6"
   ]
  },
  {
   "cell_type": "code",
   "execution_count": 35,
   "metadata": {},
   "outputs": [
    {
     "name": "stdout",
     "output_type": "stream",
     "text": [
      "Введите количество порций: 5\n",
      "Сыр: 350 гр\n",
      "Томаты: 10 шт\n",
      "Огурцы: 100 гр\n",
      "Маслины: 50 гр\n",
      "Оливковое масло: 100 мл\n",
      "Салат: 50 гр\n",
      "Перец: 100 гр\n",
      "Колбаса: 150 гр\n",
      "Бекон: 150 гр\n",
      "Оливки: 50 гр\n",
      "Томаты: 100 гр\n",
      "Тесто: 500 гр\n",
      "Лимон: 5 шт\n",
      "Вода: 1000 мл\n",
      "Сахар: 50 гр\n",
      "Лайм: 100 гр\n"
     ]
    }
   ],
   "source": [
    "cook_book = {\n",
    "  'салат': [\n",
    "     {'ingridient_name': 'сыр', 'quantity': 50, 'measure': 'гр'},\n",
    "     {'ingridient_name': 'томаты', 'quantity': 2, 'measure': 'шт'},\n",
    "     {'ingridient_name': 'огурцы', 'quantity': 20, 'measure': 'гр'},\n",
    "     {'ingridient_name': 'маслины', 'quantity': 10, 'measure': 'гр'},\n",
    "     {'ingridient_name': 'оливковое масло', 'quantity': 20, 'measure': 'мл'},\n",
    "     {'ingridient_name': 'салат', 'quantity': 10, 'measure': 'гр'},\n",
    "     {'ingridient_name': 'перец', 'quantity': 20, 'measure': 'гр'}\n",
    "    ],\n",
    "  'пицца': [\n",
    "     {'ingridient_name': 'сыр', 'quantity': 20, 'measure': 'гр'},\n",
    "     {'ingridient_name': 'колбаса', 'quantity': 30, 'measure': 'гр'},\n",
    "     {'ingridient_name': 'бекон', 'quantity': 30, 'measure': 'гр'},\n",
    "     {'ingridient_name': 'оливки', 'quantity': 10, 'measure': 'гр'},\n",
    "     {'ingridient_name': 'томаты', 'quantity': 20, 'measure': 'гр'},\n",
    "     {'ingridient_name': 'тесто', 'quantity': 100, 'measure': 'гр'},   \n",
    "    ],\n",
    "  'лимонад': [\n",
    "     {'ingridient_name': 'лимон', 'quantity': 1, 'measure': 'шт'},\n",
    "     {'ingridient_name': 'вода', 'quantity': 200, 'measure': 'мл'},\n",
    "     {'ingridient_name': 'сахар', 'quantity': 10, 'measure': 'гр'},\n",
    "     {'ingridient_name': 'лайм', 'quantity': 20, 'measure': 'гр'},    \n",
    "    ]\n",
    "}\n",
    "\n",
    "persons=int(input('Введите количество порций: '))\n",
    "\n",
    "ingridient_list=[]\n",
    "final_list=[]\n",
    "\n",
    "for ingridients in cook_book.values():\n",
    "    for characteristic in ingridients:\n",
    "        name = characteristic['ingridient_name'].capitalize()\n",
    "        quantity = characteristic['quantity'] * persons\n",
    "        measure = characteristic['measure']\n",
    "        element = [name, quantity, measure]\n",
    "        ingridient_list.append(element)  \n",
    "\n",
    "for ingridient in ingridient_list:\n",
    "    quantity = 0\n",
    "    for ingridient_check in ingridient_list:\n",
    "        if ingridient[0] == ingridient_check[0] and ingridient[2] == ingridient_check[2]:\n",
    "            quantity += ingridient_check[1] \n",
    "            element = [ingridient[0], quantity, ingridient[2]]\n",
    "    if element not in final_list:\n",
    "        final_list.append(element)\n",
    "\n",
    "for element in final_list:\n",
    "    print(f'{element[0]}: {element[1]} {element[2]}')"
   ]
  }
 ],
 "metadata": {
  "kernelspec": {
   "display_name": "Python 3",
   "language": "python",
   "name": "python3"
  },
  "language_info": {
   "codemirror_mode": {
    "name": "ipython",
    "version": 3
   },
   "file_extension": ".py",
   "mimetype": "text/x-python",
   "name": "python",
   "nbconvert_exporter": "python",
   "pygments_lexer": "ipython3",
   "version": "3.8.5"
  }
 },
 "nbformat": 4,
 "nbformat_minor": 4
}
