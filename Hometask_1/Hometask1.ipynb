{
 "cells": [
  {
   "cell_type": "markdown",
   "metadata": {},
   "source": [
    "### Задание №1"
   ]
  },
  {
   "cell_type": "code",
   "execution_count": 24,
   "metadata": {},
   "outputs": [
    {
     "name": "stdout",
     "output_type": "stream",
     "text": [
      "Фраза 1 длиннее фразы 2\n"
     ]
    }
   ],
   "source": [
    "# Задание №1\n",
    "phrase_1='Насколько проще было бы писать программы, если бы не заказчики'\n",
    "phrase_2='640Кб должно хватить для любых задач. Билл Гейтс (по легенде)'\n",
    "if len(phrase_1)>len(phrase_2):\n",
    "    print('Фраза 1 длиннее фразы 2')\n",
    "elif len(phrase_1)<len(phrase_2):\n",
    "    print('Фраза 2 длиннее фразы 1')\n",
    "else:\n",
    "    print('Фразы равной длины')"
   ]
  },
  {
   "cell_type": "markdown",
   "metadata": {},
   "source": [
    "### Задание №2"
   ]
  },
  {
   "cell_type": "code",
   "execution_count": 1,
   "metadata": {},
   "outputs": [
    {
     "name": "stdout",
     "output_type": "stream",
     "text": [
      "обычный год\n"
     ]
    }
   ],
   "source": [
    "# Задание №2\n",
    "year=2021\n",
    "\n",
    "if year%4==0:\n",
    "    print(\"високосный год\")\n",
    "else:\n",
    "    print(\"обычный год\")"
   ]
  },
  {
   "cell_type": "markdown",
   "metadata": {},
   "source": [
    "### Задание №3"
   ]
  },
  {
   "cell_type": "code",
   "execution_count": 6,
   "metadata": {},
   "outputs": [
    {
     "name": "stdout",
     "output_type": "stream",
     "text": [
      "Введите день: 15\n",
      "Введите месяц: май\n",
      "Ваш знак зодиака: Телец\n"
     ]
    }
   ],
   "source": [
    "# Задание №3\n",
    "birth_day=int(input('Введите день: '))\n",
    "birth_month=str.capitalize(input('Введите месяц: '))\n",
    "error_check=0\n",
    "\n",
    "if birth_month!=\"Январь\" and birth_month!=\"Февраль\" and birth_month!=\"Март\" and birth_month!=\"Апрель\" and birth_month!=\"Май\" and birth_month!=\"Июнь\" and birth_month!=\"Июль\" and birth_month!=\"Август\" and birth_month!=\"Сентябрь\" and birth_month!=\"Октябрь\" and birth_month!=\"Ноябрь\" and birth_month!=\"Декабрь\":\n",
    "    print('Введены некорректные данные')\n",
    "    error_check=1\n",
    "else:\n",
    "    if birth_month==\"Январь\" and birth_month==\"Март\" and birth_month==\"Май\" and birth_month==\"Июль\" and birth_month==\"Август\" and birth_month==\"Октябрь\" and birth_month==\"Декабрь\":\n",
    "        if birth_day>31 or birth_day<1:\n",
    "            print(\"Введены некорректные данные\")\n",
    "            error_check=1\n",
    "    elif birth_month==\"Апрель\" and birth_month==\"Июнь\" and birth_month==\"Сентябрь\" and birth_month==\"Ноябрь\":\n",
    "        if birth_day>30 or birth_day<1:\n",
    "            print(\"Введены некорректные данные\")\n",
    "            error_check=1\n",
    "    elif birth_month==\"Февраль\":\n",
    "        if birth_day>29 or birth_day<1:\n",
    "            print(\"Введены некорректные данные\")\n",
    "            error_check=1\n",
    "\n",
    "if error_check!=1:\n",
    "    if (birth_month==\"Декабрь\" and birth_day>22) or (birth_month==\"Январь\" and birth_day<=20):\n",
    "        zodiac_sign=\"Козерог\"\n",
    "    elif (birth_month==\"Январь\" and birth_day>20) or (birth_month==\"Февраль\" and birth_day<=19):\n",
    "        zodiac_sign=\"Водолей\"\n",
    "    elif (birth_month==\"Февраль\" and birth_day>19) or (birth_month==\"Март\" and birth_day<=20):\n",
    "        zodiac_sign=\"Рыбы\"\n",
    "    elif (birth_month==\"Март\" and birth_day>20) or (birth_month==\"Апрель\" and birth_day<=20):\n",
    "        zodiac_sign=\"Овен\"\n",
    "    elif (birth_month==\"Апрель\" and birth_day>20) or (birth_month==\"Май\" and birth_day<=21):\n",
    "        zodiac_sign=\"Телец\"\n",
    "    elif (birth_month==\"Май\" and birth_day>21) or (birth_month==\"Июнь\" and birth_day<=21):\n",
    "        zodiac_sign=\"Близнецы\"\n",
    "    elif (birth_month==\"Июнь\" and birth_day>21) or (birth_month==\"Июль\" and birth_day<=22):\n",
    "        zodiac_sign=\"Рак\"\n",
    "    elif (birth_month==\"Июль\" and birth_day>22) or (birth_month==\"Август\" and birth_day<=21):\n",
    "        zodiac_sign=\"Лев\"\n",
    "    elif (birth_month==\"Август\" and birth_day>21) or (birth_month==\"Сентябрь\" and birth_day<=23):\n",
    "        zodiac_sign=\"Дева\"\n",
    "    elif (birth_month==\"Сентябрь\" and birth_day>23) or (birth_month==\"Октябрь\" and birth_day<=23):\n",
    "        zodiac_sign=\"Весы\"\n",
    "    elif (birth_month==\"Октябрь\" and birth_day>23) or (birth_month==\"Ноябрь\" and birth_day<=22):\n",
    "        zodiac_sign=\"Скорпион\"\n",
    "    elif (birth_month==\"Ноябрь\" and birth_day>22) or (birth_month==\"Декабрь\" and birth_day<=22):\n",
    "        zodiac_sign=\"Стрелец\"\n",
    "    print(\"Ваш знак зодиака:\",zodiac_sign)\n",
    "            "
   ]
  },
  {
   "cell_type": "markdown",
   "metadata": {},
   "source": [
    "### Задание №4"
   ]
  },
  {
   "cell_type": "code",
   "execution_count": 5,
   "metadata": {},
   "outputs": [
    {
     "name": "stdout",
     "output_type": "stream",
     "text": [
      "Упаковка для лыж\n"
     ]
    }
   ],
   "source": [
    "#Задание №4\n",
    "width = 15\n",
    "length = 201\n",
    "height = 15\n",
    "\n",
    "if width <= 0 and length <= 0 and height <= 0:\n",
    "    print(\"Неверные параметры груза\")\n",
    "else:\n",
    "    if width < 15 and length < 15 and height < 15:\n",
    "        print(\"Коробка №1\")\n",
    "    elif length>200:\n",
    "        print(\"Упаковка для лыж\")\n",
    "    elif 15 < width < 50 or 15 < length < 50 or 15 < height < 50:\n",
    "        print(\"Коробка №2\")\n",
    "    else:\n",
    "        print(\"Стандратная коробка №3\")"
   ]
  },
  {
   "cell_type": "markdown",
   "metadata": {},
   "source": [
    "### Задание №5"
   ]
  },
  {
   "cell_type": "code",
   "execution_count": 6,
   "metadata": {},
   "outputs": [
    {
     "name": "stdout",
     "output_type": "stream",
     "text": [
      "Несчастливый билет\n"
     ]
    }
   ],
   "source": [
    "#Задание №5\n",
    "number = 123321\n",
    "digit_1=number//100000\n",
    "digit_2=number//10000%10\n",
    "digit_3=number//1000%10\n",
    "digit_4=number//100%10\n",
    "digit_5=number//10%10\n",
    "digit_6=number%10\n",
    "\n",
    "digit_sum_1_3=digit_1+digit_2+digit_3\n",
    "digit_sum_4_6=digit_4+digit_5+digit_6\n",
    "\n",
    "if digit_sum_1_3==digit_sum_4_6:\n",
    "    print(\"Счастливый билет\")\n",
    "else:\n",
    "    print(\"Несчастливый билет\")"
   ]
  },
  {
   "cell_type": "markdown",
   "metadata": {},
   "source": [
    "### Задание №6"
   ]
  },
  {
   "cell_type": "code",
   "execution_count": 2,
   "metadata": {},
   "outputs": [
    {
     "name": "stdout",
     "output_type": "stream",
     "text": [
      "Введите тип фигуры: прямоугольник\n",
      "Введите длину прямоугольника: 5\n",
      "Введите ширину прямоугольника: 6\n",
      "Площадь прямоугольника: 30\n"
     ]
    }
   ],
   "source": [
    "# Задание №6\n",
    "shape_type=str.capitalize(input('Введите тип фигуры: '))\n",
    "\n",
    "if shape_type!=\"Круг\" and shape_type!=\"Треугольник\" and shape_type!=\"Прямоугольник\":\n",
    "    print('Неверный тип фигуры')\n",
    "else:\n",
    "    if shape_type==\"Круг\":\n",
    "        radius=int(input('Введите радиус круга: '))\n",
    "        if radius<=0:\n",
    "            print('Круг с таким радиусом не существует')\n",
    "        else:\n",
    "            square=3.1416*(radius**2)\n",
    "            print(\"Площадь круга:\",square)\n",
    "    elif shape_type==\"Треугольник\":\n",
    "        side_a=int(input('Введите длину стороны A: '))\n",
    "        side_b=int(input('Введите длину стороны B: '))\n",
    "        side_c=int(input('Введите длину стороны C: '))\n",
    "        if side_a<=0 or side_b<=0 or side_c<=0 or side_a>=side_b+side_c or side_b>=side_a+side_c or side_c>=side_a+side_b:\n",
    "            print('Треугольник с такими сторонами не существует')\n",
    "        else:\n",
    "            half_per=(side_a+side_b+side_c)/2\n",
    "            square=(half_per*(half_per-side_a)*(half_per-side_b)*(half_per-side_c))**0.5\n",
    "            print(\"Площадь треугольника:\",square)\n",
    "    elif shape_type==\"Прямоугольник\":\n",
    "        side_length=int(input('Введите длину прямоугольника: '))\n",
    "        side_width=int(input('Введите ширину прямоугольника: '))\n",
    "        if side_length<=0 or side_width<=0 :\n",
    "            print('Прямоугольник с такими сторонами не существует')\n",
    "        else:\n",
    "            square=side_length*side_width\n",
    "            print(\"Площадь прямоугольника:\",square)"
   ]
  }
 ],
 "metadata": {
  "kernelspec": {
   "display_name": "Python 3",
   "language": "python",
   "name": "python3"
  },
  "language_info": {
   "codemirror_mode": {
    "name": "ipython",
    "version": 3
   },
   "file_extension": ".py",
   "mimetype": "text/x-python",
   "name": "python",
   "nbconvert_exporter": "python",
   "pygments_lexer": "ipython3",
   "version": "3.8.5"
  }
 },
 "nbformat": 4,
 "nbformat_minor": 4
}
