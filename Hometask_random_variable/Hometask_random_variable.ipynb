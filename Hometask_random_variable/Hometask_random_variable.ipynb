{
 "cells": [
  {
   "cell_type": "markdown",
   "metadata": {},
   "source": [
    "# Случайные события. Случайные величины\n",
    "\n",
    "Средний теоретический проигрыш равен 20 копейкам.\n",
    "\n",
    "Средний проигрыш по результатам моделирования равен 21 копейке (при разбросе в основном от 16 до 23 копеек)."
   ]
  },
  {
   "cell_type": "code",
   "execution_count": 1,
   "metadata": {},
   "outputs": [],
   "source": [
    "import numpy as np"
   ]
  },
  {
   "cell_type": "code",
   "execution_count": 68,
   "metadata": {
    "scrolled": true
   },
   "outputs": [
    {
     "name": "stdout",
     "output_type": "stream",
     "text": [
      "Итоговый проигрыш за 100000 попыток составил 20584 рублей.\n",
      "Средний проигрыш составляет 0.20584 рублей.\n"
     ]
    }
   ],
   "source": [
    "trials = 100000\n",
    "\n",
    "paid = 0\n",
    "capital = 0\n",
    "prize = 0\n",
    "\n",
    "for i in range(1, trials+1):\n",
    "#     money = int(input('Внесите 1 руб.: ')) * (-1)\n",
    "\n",
    "#     while money != -1:\n",
    "#         money = int(input('Внесите 1 руб.: ')) * (-1)\n",
    "    \n",
    "    money = -1\n",
    "    paid += money\n",
    "\n",
    "    win_whole_combination = {777: 200,\n",
    "                            999: 100,\n",
    "                            555: 50,\n",
    "                            333: 15,\n",
    "                            111: 10}\n",
    "\n",
    "    win_partly_dozens_combination = {77: 5, 0: 2}\n",
    "\n",
    "    win_partly_ones_combination = {7: 3, 0: 1}\n",
    "\n",
    "    random_variable = np.random.randint(0, 1000)\n",
    "\n",
    "    if random_variable in win_whole_combination:\n",
    "        prize = prize + win_whole_combination[random_variable]\n",
    "    elif (random_variable % 100) in win_partly_dozens_combination:\n",
    "        prize = prize + win_partly_dozens_combination[(random_variable % 100)]\n",
    "    elif (random_variable % 10) in win_partly_ones_combination:\n",
    "        prize = prize + win_partly_ones_combination[(random_variable % 10)]\n",
    "\n",
    "capital = paid + prize\n",
    "average_capital = capital / trials\n",
    "\n",
    "if capital <= 0:\n",
    "    print('Итоговый проигрыш за', trials, 'попыток составил', capital * (-1), 'рублей.')\n",
    "    print('Средний проигрыш составляет', average_capital * (-1), 'рублей.')\n",
    "else:\n",
    "    print('Итоговый выигрыш за', trials, 'попыток составил', capital, 'рублей.')\n",
    "    print('Средний выигрыш составляет', average_capital, 'рублей.')"
   ]
  },
  {
   "cell_type": "code",
   "execution_count": 70,
   "metadata": {},
   "outputs": [
    {
     "name": "stdout",
     "output_type": "stream",
     "text": [
      "Средний теоретический проигрыш:  0.2 рубля\n"
     ]
    }
   ],
   "source": [
    "average_theoretical_capital = 200 * 0.001 + 100 * 0.001 + 50 * 0.001 + 15 * 0.001 + 10 * 0.001 + 5 * 0.009 + 2 * 0.01 + 3 * 0.09 + 1 * 0.09 + 0 * (1 - 0.001 - 0.001 - 0.001 - 0.001 - 0.001 - 0.009 - 0.01 - 0.09 - 0.09) - 1\n",
    "print('Средний теоретический проигрыш: ', (-1) * round(average_theoretical_capital, 2), 'рубля')"
   ]
  },
  {
   "cell_type": "code",
   "execution_count": 28,
   "metadata": {},
   "outputs": [
    {
     "name": "stdout",
     "output_type": "stream",
     "text": [
      "Вероятность *77:  0.009\n",
      "Вероятность *00:  0.01\n",
      "Вероятность **7:  0.09\n",
      "Вероятность **0:  0.09\n"
     ]
    }
   ],
   "source": [
    "n = 0\n",
    "for i in range(0, 1000):\n",
    "    if i % 100 == 77 and i != 777:\n",
    "        n += 1\n",
    "        \n",
    "print ('Вероятность *77: ', n / 1000)\n",
    "\n",
    "n = 0\n",
    "for i in range(0, 1000):\n",
    "    if i % 100 == 0:\n",
    "        n += 1\n",
    "        \n",
    "print ('Вероятность *00: ', n / 1000)\n",
    "\n",
    "n = 0\n",
    "for i in range(0, 1000):\n",
    "    if i % 100 != 77 and i != 777 and i % 10 == 7:\n",
    "        n += 1\n",
    "        \n",
    "print ('Вероятность **7: ', n / 1000)\n",
    "\n",
    "n = 0\n",
    "for i in range(0, 1000):\n",
    "    if i % 100 != 0 and i % 10 == 0:\n",
    "        n += 1\n",
    "        \n",
    "print ('Вероятность **0: ', n / 1000)"
   ]
  }
 ],
 "metadata": {
  "kernelspec": {
   "display_name": "Python 3",
   "language": "python",
   "name": "python3"
  },
  "language_info": {
   "codemirror_mode": {
    "name": "ipython",
    "version": 3
   },
   "file_extension": ".py",
   "mimetype": "text/x-python",
   "name": "python",
   "nbconvert_exporter": "python",
   "pygments_lexer": "ipython3",
   "version": "3.8.5"
  }
 },
 "nbformat": 4,
 "nbformat_minor": 4
}
