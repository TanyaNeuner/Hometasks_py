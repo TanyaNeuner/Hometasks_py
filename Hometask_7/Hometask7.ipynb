{
 "cells": [
  {
   "cell_type": "markdown",
   "metadata": {},
   "source": [
    "### Задание 1"
   ]
  },
  {
   "cell_type": "code",
   "execution_count": 2,
   "metadata": {},
   "outputs": [
    {
     "data": {
      "text/plain": [
       "'СДР (специальные права заимствования)'"
      ]
     },
     "execution_count": 2,
     "metadata": {},
     "output_type": "execute_result"
    }
   ],
   "source": [
    "import requests\n",
    "import json\n",
    "\n",
    "class Rate:\n",
    "    def exchange_rate(self):\n",
    "        self.req = requests.get('https://www.cbr-xml-daily.ru/daily_json.js')\n",
    "        return self.req.json()['Valute']\n",
    "    \n",
    "    def max_rate(self):\n",
    "        \n",
    "        max_rate_value = 0\n",
    "        max_rate_key = ''\n",
    "        response = self.exchange_rate()\n",
    "        for value in response.values():\n",
    "            if value['Value'] > max_rate_value:\n",
    "                max_rate_value = value['Value']\n",
    "                max_rate_key = value['Name']\n",
    "        return max_rate_key\n",
    "    \n",
    "r = Rate()\n",
    "r.max_rate()"
   ]
  },
  {
   "cell_type": "markdown",
   "metadata": {},
   "source": [
    "### Задание 2"
   ]
  },
  {
   "cell_type": "code",
   "execution_count": 8,
   "metadata": {},
   "outputs": [
    {
     "data": {
      "text/plain": [
       "-0.2953"
      ]
     },
     "execution_count": 8,
     "metadata": {},
     "output_type": "execute_result"
    }
   ],
   "source": [
    "import requests\n",
    "import json\n",
    "\n",
    "class Rate:\n",
    "    def __init__(self, format_ = 'full', diff = False):\n",
    "        self.format_ = format_\n",
    "        self.diff = diff\n",
    "        \n",
    "    def exchange_rate(self):\n",
    "        req = requests.get('https://www.cbr-xml-daily.ru/daily_json.js')\n",
    "        return req.json()['Valute']\n",
    "    \n",
    "    def make_format(self, currency):\n",
    "        \"\"\"\n",
    "        Вывод информации по валюте: если format_ = 'full', выводится вся информация по валюте,\n",
    "        если format_ = 'value': \n",
    "            если параметр diff = True, выводится разница курсов за прошедшие 2 дня,\n",
    "            если параметр diff = False, выводится текущий курс валюты. \n",
    "        \"\"\"\n",
    "        response = self.exchange_rate()\n",
    "        if currency in response:\n",
    "            if self.format_ == 'full':\n",
    "                return response[currency]\n",
    "            else:\n",
    "                if self.diff:\n",
    "                    return round(response[currency]['Value'] - response[currency]['Previous'],4)\n",
    "                else:\n",
    "                    return response[currency]['Value']\n",
    "        else:\n",
    "            return Error\n",
    "    \n",
    "    def make_format_diff(self, currency):\n",
    "        \n",
    "        response = self.exchange_rate()\n",
    "        return response[currency]['Value'] - response[currency]['Previous']\n",
    "    \n",
    "    def usd(self):\n",
    "        return self.make_format('USD')\n",
    "          \n",
    "    def eur(self):\n",
    "        return self.make_format('EUR')\n",
    "                \n",
    "r = Rate(format_ = 'value', diff = True)\n",
    "r.make_format('EUR')"
   ]
  },
  {
   "cell_type": "markdown",
   "metadata": {},
   "source": [
    "### Задание 3"
   ]
  },
  {
   "cell_type": "code",
   "execution_count": 13,
   "metadata": {},
   "outputs": [
    {
     "name": "stdout",
     "output_type": "stream",
     "text": [
      "Сотрудник Алекс, грейд 1, 4 балла(-ов)\n",
      "Сотрудник Алекс, грейд 1, 6 балла(-ов)\n",
      "Сотрудник Алекс, грейд 2, 8 балла(-ов)\n",
      "Сотрудник Алекс, грейд 2, 10 балла(-ов)\n",
      "Сотрудник Алекс, грейд 2, 12 балла(-ов)\n",
      "Сотрудник Алекс, грейд 3, 14 балла(-ов)\n",
      "Сотрудник Алекс, грейд 3, 16 балла(-ов)\n",
      "Сотрудник Алекс, грейд 3, 18 балла(-ов)\n",
      "Сотрудник Алекс, грейд 3, 20 балла(-ов)\n",
      "Сотрудник Алекс, грейд 4, 22 балла(-ов)\n",
      "Сотрудник Алекс, грейд 4, 24 балла(-ов)\n"
     ]
    }
   ],
   "source": [
    "class Employee:\n",
    "    def __init__(self, name, seniority):\n",
    "        self.name = name\n",
    "        self.seniority = seniority\n",
    "        self.grade = 1\n",
    "        \n",
    "    def grade_up(self):\n",
    "        self.grade += 1\n",
    "        \n",
    "    def publish_grade(self):\n",
    "        print(f'Сотрудник {self.name}, грейд {self.grade}, {self.seniority} балла(-ов)')\n",
    "\n",
    "class Designer(Employee):\n",
    "    def __init__(self, name, seniority = 4):\n",
    "        \"\"\"\n",
    "        Заведение карточки дизайнера: стартовое условие - наличие 2 международных премий (т.е. 4 балла)\n",
    "        \"\"\"\n",
    "        super().__init__(name, seniority)\n",
    "    \n",
    "    def check_if_it_is_time_to_update(self):\n",
    "        \"\"\"\n",
    "        Учет международных премий дизайнеров: за каждую премию дизайнер получает 2 балла.\n",
    "        Апгрейд происходит при достижении каждого седьмого балла\n",
    "        \"\"\"\n",
    "        self.seniority += 2\n",
    "        if self.seniority % 7 == 0 or self.seniority % 7 == 1:\n",
    "            self.grade_up()\n",
    "        \n",
    "        return self.publish_grade()\n",
    "    \n",
    "alex = Designer('Алекс')\n",
    "# исходное значение\n",
    "alex.publish_grade()\n",
    "\n",
    "# учет премий\n",
    "for i in range(10):\n",
    "    alex.check_if_it_is_time_to_update()\n"
   ]
  }
 ],
 "metadata": {
  "kernelspec": {
   "display_name": "Python 3",
   "language": "python",
   "name": "python3"
  },
  "language_info": {
   "codemirror_mode": {
    "name": "ipython",
    "version": 3
   },
   "file_extension": ".py",
   "mimetype": "text/x-python",
   "name": "python",
   "nbconvert_exporter": "python",
   "pygments_lexer": "ipython3",
   "version": "3.8.5"
  }
 },
 "nbformat": 4,
 "nbformat_minor": 4
}
