{
 "cells": [
  {
   "cell_type": "markdown",
   "metadata": {},
   "source": [
    "### Задание 1"
   ]
  },
  {
   "cell_type": "markdown",
   "metadata": {},
   "source": [
    "При запуске кода - у меня выпадает следующая ошибка (ниже в результатах). При изменении значения NotebookApp.iopub_data_rate_limit на бОльшее, мой ноутбук погас и долго не включался.\n",
    "\n",
    "Подскажите, пожалуйста, что с этим можно сделать и почему такая ошибка появляется?\n",
    "\n",
    "Спасибо!"
   ]
  },
  {
   "cell_type": "code",
   "execution_count": 4,
   "metadata": {
    "scrolled": true
   },
   "outputs": [
    {
     "name": "stderr",
     "output_type": "stream",
     "text": [
      "IOPub data rate exceeded.\n",
      "The notebook server will temporarily stop sending output\n",
      "to the client in order to avoid crashing it.\n",
      "To change this limit, set the config variable\n",
      "`--NotebookApp.iopub_data_rate_limit`.\n",
      "\n",
      "Current values:\n",
      "NotebookApp.iopub_data_rate_limit=1000000.0 (bytes/sec)\n",
      "NotebookApp.rate_limit_window=3.0 (secs)\n",
      "\n"
     ]
    }
   ],
   "source": [
    "import json\n",
    "dict_list = []\n",
    "\n",
    "with open('purchase_log.txt', 'r', encoding = 'utf-8') as f:\n",
    "    for line in f:\n",
    "        line = line.strip()\n",
    "        dict_in_string = json.loads(line)\n",
    "        dict_list.append(dict_in_string)\n",
    "        \n",
    "    purchases = {el['user_id']: el['category'] for el in dict_list if el['user_id'] != 'user_id'}\n",
    "    print(purchases)"
   ]
  },
  {
   "cell_type": "markdown",
   "metadata": {},
   "source": [
    "### Задание 2"
   ]
  },
  {
   "cell_type": "code",
   "execution_count": 6,
   "metadata": {},
   "outputs": [
    {
     "name": "stdout",
     "output_type": "stream",
     "text": [
      "Завершено!\n"
     ]
    }
   ],
   "source": [
    "import json\n",
    "purchases = {}\n",
    "\n",
    "with open('purchase_log.txt', 'r', encoding = 'utf-8') as f2r:\n",
    "    purchase_log_content = f2r.readlines()\n",
    "\n",
    "for el in purchase_log_content:\n",
    "    el = el.strip()\n",
    "    dict_in_string = json.loads(el)\n",
    "    purchases[dict_in_string['user_id']] = dict_in_string['category']\n",
    "        \n",
    "with open('visit_log.csv', 'r') as f1r:\n",
    "    with open('funnel.csv', 'w') as f2w:\n",
    "        for line in f1r:\n",
    "            line_list = line.strip().split(',')\n",
    "            if purchases.get(line_list[0], 'no') != 'no':\n",
    "                line_list.append(purchases[line_list[0]])\n",
    "                new_line = ','.join(line_list) + '\\n'\n",
    "                f2w.write(new_line)\n",
    "                \n",
    "print('Завершено!')"
   ]
  }
 ],
 "metadata": {
  "kernelspec": {
   "display_name": "Python 3",
   "language": "python",
   "name": "python3"
  },
  "language_info": {
   "codemirror_mode": {
    "name": "ipython",
    "version": 3
   },
   "file_extension": ".py",
   "mimetype": "text/x-python",
   "name": "python",
   "nbconvert_exporter": "python",
   "pygments_lexer": "ipython3",
   "version": "3.8.5"
  }
 },
 "nbformat": 4,
 "nbformat_minor": 4
}
