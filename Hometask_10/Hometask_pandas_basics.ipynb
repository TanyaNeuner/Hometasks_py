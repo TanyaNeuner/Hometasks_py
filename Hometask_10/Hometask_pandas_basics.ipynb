{
 "cells": [
  {
   "cell_type": "code",
   "execution_count": 18,
   "metadata": {},
   "outputs": [],
   "source": [
    "import pandas as pd"
   ]
  },
  {
   "cell_type": "markdown",
   "metadata": {},
   "source": [
    "### Задание 1"
   ]
  },
  {
   "cell_type": "code",
   "execution_count": 25,
   "metadata": {},
   "outputs": [
    {
     "data": {
      "text/html": [
       "<div>\n",
       "<style scoped>\n",
       "    .dataframe tbody tr th:only-of-type {\n",
       "        vertical-align: middle;\n",
       "    }\n",
       "\n",
       "    .dataframe tbody tr th {\n",
       "        vertical-align: top;\n",
       "    }\n",
       "\n",
       "    .dataframe thead th {\n",
       "        text-align: right;\n",
       "    }\n",
       "</style>\n",
       "<table border=\"1\" class=\"dataframe\">\n",
       "  <thead>\n",
       "    <tr style=\"text-align: right;\">\n",
       "      <th></th>\n",
       "      <th>rating</th>\n",
       "    </tr>\n",
       "    <tr>\n",
       "      <th>title</th>\n",
       "      <th></th>\n",
       "    </tr>\n",
       "  </thead>\n",
       "  <tbody>\n",
       "    <tr>\n",
       "      <th>Shawshank Redemption, The (1994)</th>\n",
       "      <td>153</td>\n",
       "    </tr>\n",
       "  </tbody>\n",
       "</table>\n",
       "</div>"
      ],
      "text/plain": [
       "                                  rating\n",
       "title                                   \n",
       "Shawshank Redemption, The (1994)     153"
      ]
     },
     "execution_count": 25,
     "metadata": {},
     "output_type": "execute_result"
    }
   ],
   "source": [
    "ratings = pd.read_csv('ratings.csv')\n",
    "movies = pd.read_csv('movies.csv')\n",
    "joined = ratings.merge(movies, on = 'movieId', how = 'left')\n",
    "filtered_ratings = joined[joined.rating == 5.0]\n",
    "grouped_ratings = filtered_ratings.groupby('title').count()[['rating']]\n",
    "grouped_ratings.sort_values(by = 'rating', ascending = False).head(1)"
   ]
  },
  {
   "cell_type": "markdown",
   "metadata": {},
   "source": [
    "### Задание 2"
   ]
  },
  {
   "cell_type": "code",
   "execution_count": 23,
   "metadata": {},
   "outputs": [
    {
     "name": "stdout",
     "output_type": "stream",
     "text": [
      "Суммарное потребление в странах Прибалтики:  234254.0\n"
     ]
    }
   ],
   "source": [
    "power = pd.read_csv('power.csv')\n",
    "filtered_data = power[((power['country'] == 'Estonia') | (power['country'] == 'Latvia') | (power['country'] == 'Lithuania')) & (power['quantity'] >= 0) & ((power['category'] == 4) | (power['category'] == 20) | (power['category'] == 21)) & ((power['year'] >= 2005) & (power['year'] <= 2010))]\n",
    "\n",
    "print('Суммарное потребление в странах Прибалтики: ', filtered_data['quantity'].sum())"
   ]
  },
  {
   "cell_type": "markdown",
   "metadata": {},
   "source": [
    "### Задание 3"
   ]
  },
  {
   "cell_type": "code",
   "execution_count": 21,
   "metadata": {},
   "outputs": [
    {
     "data": {
      "text/html": [
       "<div>\n",
       "<style scoped>\n",
       "    .dataframe tbody tr th:only-of-type {\n",
       "        vertical-align: middle;\n",
       "    }\n",
       "\n",
       "    .dataframe tbody tr th {\n",
       "        vertical-align: top;\n",
       "    }\n",
       "\n",
       "    .dataframe thead th {\n",
       "        text-align: right;\n",
       "    }\n",
       "</style>\n",
       "<table border=\"1\" class=\"dataframe\">\n",
       "  <thead>\n",
       "    <tr style=\"text-align: right;\">\n",
       "      <th></th>\n",
       "      <th>0</th>\n",
       "      <th>1</th>\n",
       "      <th>2</th>\n",
       "      <th>3</th>\n",
       "      <th>4</th>\n",
       "      <th>5</th>\n",
       "      <th>6</th>\n",
       "      <th>7</th>\n",
       "      <th>8</th>\n",
       "      <th>9</th>\n",
       "      <th>10</th>\n",
       "      <th>11</th>\n",
       "      <th>12</th>\n",
       "      <th>13</th>\n",
       "    </tr>\n",
       "  </thead>\n",
       "  <tbody>\n",
       "    <tr>\n",
       "      <th>0</th>\n",
       "      <td>Alt+1</td>\n",
       "      <td>☺</td>\n",
       "      <td>Alt+21</td>\n",
       "      <td>§</td>\n",
       "      <td>Alt+41</td>\n",
       "      <td>)</td>\n",
       "      <td>Alt+61</td>\n",
       "      <td>=</td>\n",
       "      <td>Alt+81</td>\n",
       "      <td>Q</td>\n",
       "      <td>Alt+101</td>\n",
       "      <td>e</td>\n",
       "      <td>Alt+121</td>\n",
       "      <td>y</td>\n",
       "    </tr>\n",
       "    <tr>\n",
       "      <th>1</th>\n",
       "      <td>Alt+2</td>\n",
       "      <td>☻</td>\n",
       "      <td>Alt+22</td>\n",
       "      <td>▬</td>\n",
       "      <td>Alt+42</td>\n",
       "      <td>*</td>\n",
       "      <td>Alt+62</td>\n",
       "      <td>&gt;</td>\n",
       "      <td>Alt+82</td>\n",
       "      <td>R</td>\n",
       "      <td>Alt+102</td>\n",
       "      <td>f</td>\n",
       "      <td>Alt+122</td>\n",
       "      <td>z</td>\n",
       "    </tr>\n",
       "    <tr>\n",
       "      <th>2</th>\n",
       "      <td>Alt+3</td>\n",
       "      <td>♥</td>\n",
       "      <td>Alt+23</td>\n",
       "      <td>↨</td>\n",
       "      <td>Alt+43</td>\n",
       "      <td>+</td>\n",
       "      <td>Alt+63</td>\n",
       "      <td>?</td>\n",
       "      <td>Alt+83</td>\n",
       "      <td>S</td>\n",
       "      <td>Alt+103</td>\n",
       "      <td>g</td>\n",
       "      <td>Alt+123</td>\n",
       "      <td>{</td>\n",
       "    </tr>\n",
       "    <tr>\n",
       "      <th>3</th>\n",
       "      <td>Alt+4</td>\n",
       "      <td>♦</td>\n",
       "      <td>Alt+24</td>\n",
       "      <td>↑</td>\n",
       "      <td>Alt+44</td>\n",
       "      <td>NaN</td>\n",
       "      <td>Alt+64</td>\n",
       "      <td>@</td>\n",
       "      <td>Alt+84</td>\n",
       "      <td>T</td>\n",
       "      <td>Alt+104</td>\n",
       "      <td>h</td>\n",
       "      <td>Alt+124</td>\n",
       "      <td>|</td>\n",
       "    </tr>\n",
       "    <tr>\n",
       "      <th>4</th>\n",
       "      <td>Alt+5</td>\n",
       "      <td>♣</td>\n",
       "      <td>Alt+25</td>\n",
       "      <td>↓</td>\n",
       "      <td>Alt+45</td>\n",
       "      <td>-</td>\n",
       "      <td>Alt+65</td>\n",
       "      <td>A</td>\n",
       "      <td>Alt+85</td>\n",
       "      <td>U</td>\n",
       "      <td>Alt+105</td>\n",
       "      <td>i</td>\n",
       "      <td>Alt+125</td>\n",
       "      <td>}</td>\n",
       "    </tr>\n",
       "  </tbody>\n",
       "</table>\n",
       "</div>"
      ],
      "text/plain": [
       "      0  1       2  3       4    5       6  7       8  9        10 11  \\\n",
       "0  Alt+1  ☺  Alt+21  §  Alt+41    )  Alt+61  =  Alt+81  Q  Alt+101  e   \n",
       "1  Alt+2  ☻  Alt+22  ▬  Alt+42    *  Alt+62  >  Alt+82  R  Alt+102  f   \n",
       "2  Alt+3  ♥  Alt+23  ↨  Alt+43    +  Alt+63  ?  Alt+83  S  Alt+103  g   \n",
       "3  Alt+4  ♦  Alt+24  ↑  Alt+44  NaN  Alt+64  @  Alt+84  T  Alt+104  h   \n",
       "4  Alt+5  ♣  Alt+25  ↓  Alt+45    -  Alt+65  A  Alt+85  U  Alt+105  i   \n",
       "\n",
       "        12 13  \n",
       "0  Alt+121  y  \n",
       "1  Alt+122  z  \n",
       "2  Alt+123  {  \n",
       "3  Alt+124  |  \n",
       "4  Alt+125  }  "
      ]
     },
     "execution_count": 21,
     "metadata": {},
     "output_type": "execute_result"
    }
   ],
   "source": [
    "page_url = 'https://htmlweb.ru/html/alt-codes.htm'\n",
    "table_df = pd.read_html(page_url, encoding = 'utf-8')[0]\n",
    "table_df.head(5)"
   ]
  }
 ],
 "metadata": {
  "kernelspec": {
   "display_name": "Python 3",
   "language": "python",
   "name": "python3"
  },
  "language_info": {
   "codemirror_mode": {
    "name": "ipython",
    "version": 3
   },
   "file_extension": ".py",
   "mimetype": "text/x-python",
   "name": "python",
   "nbconvert_exporter": "python",
   "pygments_lexer": "ipython3",
   "version": "3.8.5"
  }
 },
 "nbformat": 4,
 "nbformat_minor": 4
}
